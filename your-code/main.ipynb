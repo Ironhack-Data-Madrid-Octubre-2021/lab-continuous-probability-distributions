{
 "cells": [
  {
   "cell_type": "markdown",
   "metadata": {},
   "source": [
    "# Before your start:\n",
    "\n",
    "    Read the README.md file\n",
    "    Comment as much as you can and use the resources (README.md file)\n",
    "    Happy learning!"
   ]
  },
  {
   "cell_type": "markdown",
   "metadata": {},
   "source": [
    "In this exercise, we  will generate random numbers from the continuous disributions we learned in the lesson. There are two ways to generate random numbers:\n",
    "\n",
    "1. Using the numpy library \n",
    "1. using the Scipy library \n",
    "\n",
    "Use either or both of the lbraries in this exercise."
   ]
  },
  {
   "cell_type": "code",
   "execution_count": 4,
   "metadata": {},
   "outputs": [],
   "source": [
    "from scipy import stats\n",
    "import matplotlib.pyplot as plt\n",
    "import pandas as pd\n",
    "import numpy as np\n",
    "import math"
   ]
  },
  {
   "cell_type": "markdown",
   "metadata": {},
   "source": [
    "## Uniform Distribution\n",
    "\n",
    "To generate uniform random numbers between any two given values using scipy, we can either use the following code or the code that we have\n",
    "discussed in class:"
   ]
  },
  {
   "cell_type": "code",
   "execution_count": 1,
   "metadata": {},
   "outputs": [
    {
     "name": "stdout",
     "output_type": "stream",
     "text": [
      "[2.91420516 2.03627799 2.41502434 2.09259628 2.71603844 2.10263733\n",
      " 2.31537295 2.73950205 2.54475566 2.97315423]\n"
     ]
    }
   ],
   "source": [
    "from scipy.stats import uniform\n",
    "x = uniform.rvs(size=10)\n",
    "a = 2\n",
    "b = 3\n",
    "randoms  = a + (b-a)*x\n",
    "print(randoms)"
   ]
  },
  {
   "cell_type": "markdown",
   "metadata": {},
   "source": [
    "**Your task:**\n",
    "\n",
    "1. Based on the code above, write a function that generates uniformly distributed random numbers. There are several requirements for your function:\n",
    "    * It should accept 3 parameters: \n",
    "        * `bottom` - the lower boundary of the generated numbers\n",
    "        * `ceiling` - the upper boundary of the generated numbers\n",
    "        * `count` - how many numbers to generate\n",
    "    * It should return an array of uniformly distributed random numbers\n",
    "\n",
    "1. Call your function with 2 sets of params below:\n",
    "    * bottom=10, ceiling=15, count=100\n",
    "    * bottom=10, ceiling=60, count=1,000\n",
    "\n",
    "1. Plot the uniform distributions generated above using histograms, where x axis is the value and y axis is the count. Let the histogram's number of bins be 10.\n",
    "\n",
    "Your output should look like below:\n",
    "\n",
    "![uniform distribution](ud.png)"
   ]
  },
  {
   "cell_type": "code",
   "execution_count": 16,
   "metadata": {},
   "outputs": [],
   "source": [
    "# your code here\n",
    "def generate_uniform(bottom, ceiling, count):\n",
    "    x = stats.uniform.rvs(size=count)\n",
    "    randoms = bottom + (ceiling - bottom)*x\n",
    "    return randoms"
   ]
  },
  {
   "cell_type": "code",
   "execution_count": 17,
   "metadata": {},
   "outputs": [],
   "source": [
    "u1 = generate_uniform(bottom=10, ceiling=15, count=100)\n",
    "u2= generate_uniform(bottom=10, ceiling=60, count=1000)"
   ]
  },
  {
   "cell_type": "code",
   "execution_count": 18,
   "metadata": {},
   "outputs": [
    {
     "data": {
      "text/plain": [
       "(array([124.,  85.,  98., 119.,  89.,  94.,  96.,  91.,  90., 114.]),\n",
       " array([10.01211837, 15.00873169, 20.00534501, 25.00195834, 29.99857166,\n",
       "        34.99518498, 39.9917983 , 44.98841163, 49.98502495, 54.98163827,\n",
       "        59.97825159]),\n",
       " <BarContainer object of 10 artists>)"
      ]
     },
     "execution_count": 18,
     "metadata": {},
     "output_type": "execute_result"
    },
    {
     "data": {
      "image/png": "[encoded data removed]",
      "text/plain": [
       "<Figure size 432x288 with 2 Axes>"
      ]
     },
     "metadata": {
      "needs_background": "light"
     },
     "output_type": "display_data"
    }
   ],
   "source": [
    "fig, (ax1, ax2) = plt.subplots(1, 2, sharey=True)\n",
    "ax1.hist(u1)\n",
    "ax2.hist(u2)"
   ]
  },
  {
   "cell_type": "markdown",
   "metadata": {},
   "source": [
    "How are the two distributions different?"
   ]
  },
  {
   "cell_type": "code",
   "execution_count": null,
   "metadata": {},
   "outputs": [],
   "source": [
    "# your answer below\n",
    "Las distribuciones son iguales pero son diferentes en su rango de valores"
   ]
  },
  {
   "cell_type": "markdown",
   "metadata": {},
   "source": [
    "## Normal Distribution\n",
    "\n",
    "1. In the same way in the Uniform Distribution challenge, write a function that generates normally distributed random numbers.\n",
    "1. Generate 1,000 normally distributed numbers with the average of 10 and standard deviation of 1\n",
    "1. Generate 1,000 normally distributed numbers with the average of 10 and standard deviation of 50\n",
    "2. Plot the distributions of the data generated.\n",
    "\n",
    "Expected output:\n",
    "\n",
    "![normal distribution](nd.png)"
   ]
  },
  {
   "cell_type": "code",
   "execution_count": 21,
   "metadata": {},
   "outputs": [],
   "source": [
    "# your code here\n",
    "def generate_normal(mean, std):\n",
    "    normal = stats.norm(mean, std) \n",
    "    return normal.rvs(size=1000)"
   ]
  },
  {
   "cell_type": "code",
   "execution_count": 22,
   "metadata": {},
   "outputs": [],
   "source": [
    "n1 = generate_normal(10, 1)\n",
    "n2 = generate_normal(10, 50)"
   ]
  },
  {
   "cell_type": "code",
   "execution_count": 26,
   "metadata": {},
   "outputs": [
    {
     "data": {
      "text/plain": [
       "(array([  4.,  22.,  56., 133., 217., 257., 177.,  91.,  37.,   6.]),\n",
       " array([-156.7412306 , -125.09764181,  -93.45405302,  -61.81046423,\n",
       "         -30.16687544,    1.47671335,   33.12030214,   64.76389093,\n",
       "          96.40747972,  128.05106851,  159.6946573 ]),\n",
       " <BarContainer object of 10 artists>)"
      ]
     },
     "execution_count": 26,
     "metadata": {},
     "output_type": "execute_result"
    },
    {
     "data": {
      "image/png": "[encoded data removed]",
      "text/plain": [
       "<Figure size 432x288 with 2 Axes>"
      ]
     },
     "metadata": {
      "needs_background": "light"
     },
     "output_type": "display_data"
    }
   ],
   "source": [
    "fig, (ax1, ax2) = plt.subplots(1, 2, sharey=True)\n",
    "ax1.hist(n1)\n",
    "ax2.hist(n2)"
   ]
  },
  {
   "cell_type": "markdown",
   "metadata": {},
   "source": [
    "How are the two distributions different?"
   ]
  },
  {
   "cell_type": "code",
   "execution_count": null,
   "metadata": {},
   "outputs": [],
   "source": [
    "# your answer below\n",
    "Las distribuciones son iguales pero son diferentes en su rango de valores"
   ]
  },
  {
   "cell_type": "markdown",
   "metadata": {},
   "source": [
    "## Normal Distribution of Real Data\n",
    "\n",
    "In this challenge we are going to take a look the real data. We will use vehicles.csv file for this exercise"
   ]
  },
  {
   "cell_type": "markdown",
   "metadata": {},
   "source": [
    "First import vehicles.csv.\n",
    "Then plot the histograms for the following variables:\n",
    "\n",
    "1. Fuel Barrels/Year"
   ]
  },
  {
   "cell_type": "code",
   "execution_count": 27,
   "metadata": {},
   "outputs": [],
   "source": [
    "# your code here\n",
    "vehicles = pd.read_csv('vehicles.csv')"
   ]
  },
  {
   "cell_type": "code",
   "execution_count": 32,
   "metadata": {},
   "outputs": [
    {
     "data": {
      "text/plain": [
       "(array([6.300e+01, 1.000e+01, 1.800e+01, 6.700e+01, 2.970e+02, 1.126e+03,\n",
       "        4.059e+03, 5.600e+03, 6.259e+03, 6.760e+03, 4.613e+03, 2.413e+03,\n",
       "        2.026e+03, 1.275e+03, 7.350e+02, 4.390e+02, 0.000e+00, 1.300e+02,\n",
       "        0.000e+00, 3.600e+01, 0.000e+00, 2.100e+01, 0.000e+00, 0.000e+00,\n",
       "        5.000e+00]),\n",
       " array([ 0.06      ,  1.94108571,  3.82217143,  5.70325714,  7.58434286,\n",
       "         9.46542857, 11.34651429, 13.2276    , 15.10868571, 16.98977143,\n",
       "        18.87085714, 20.75194286, 22.63302857, 24.51411429, 26.3952    ,\n",
       "        28.27628571, 30.15737143, 32.03845714, 33.91954286, 35.80062857,\n",
       "        37.68171429, 39.5628    , 41.44388571, 43.32497143, 45.20605714,\n",
       "        47.08714286]),\n",
       " <BarContainer object of 25 artists>)"
      ]
     },
     "execution_count": 32,
     "metadata": {},
     "output_type": "execute_result"
    },
    {
     "data": {
      "image/png": "[encoded data removed]",
      "text/plain": [
       "<Figure size 432x288 with 1 Axes>"
      ]
     },
     "metadata": {
      "needs_background": "light"
     },
     "output_type": "display_data"
    }
   ],
   "source": [
    "plt.hist(vehicles['Fuel Barrels/Year'], bins= 25)"
   ]
  },
  {
   "cell_type": "markdown",
   "metadata": {},
   "source": [
    "2. CO2 Emission Grams/Mile "
   ]
  },
  {
   "cell_type": "code",
   "execution_count": 31,
   "metadata": {},
   "outputs": [
    {
     "data": {
      "text/plain": [
       "(array([9.000e+00, 2.100e+01, 2.800e+01, 2.130e+02, 5.950e+02, 2.410e+03,\n",
       "        4.016e+03, 7.043e+03, 6.377e+03, 5.770e+03, 2.459e+03, 2.422e+03,\n",
       "        1.980e+03, 1.262e+03, 7.120e+02, 4.430e+02, 3.000e+00, 1.270e+02,\n",
       "        0.000e+00, 3.600e+01, 0.000e+00, 2.100e+01, 0.000e+00, 0.000e+00,\n",
       "        5.000e+00]),\n",
       " array([  37.        ,   86.30285714,  135.60571429,  184.90857143,\n",
       "         234.21142857,  283.51428571,  332.81714286,  382.12      ,\n",
       "         431.42285714,  480.72571429,  530.02857143,  579.33142857,\n",
       "         628.63428571,  677.93714286,  727.24      ,  776.54285714,\n",
       "         825.84571429,  875.14857143,  924.45142857,  973.75428571,\n",
       "        1023.05714286, 1072.36      , 1121.66285714, 1170.96571429,\n",
       "        1220.26857143, 1269.57142857]),\n",
       " <BarContainer object of 25 artists>)"
      ]
     },
     "execution_count": 31,
     "metadata": {},
     "output_type": "execute_result"
    },
    {
     "data": {
      "image/png": "[encoded data removed]",
      "text/plain": [
       "<Figure size 432x288 with 1 Axes>"
      ]
     },
     "metadata": {
      "needs_background": "light"
     },
     "output_type": "display_data"
    }
   ],
   "source": [
    "# your code here\n",
    "plt.hist(vehicles['CO2 Emission Grams/Mile'], bins=25)"
   ]
  },
  {
   "cell_type": "markdown",
   "metadata": {},
   "source": [
    "3. Combined MPG"
   ]
  },
  {
   "cell_type": "code",
   "execution_count": 30,
   "metadata": {},
   "outputs": [
    {
     "data": {
      "text/plain": [
       "(array([2.600e+01, 1.710e+02, 1.182e+03, 3.202e+03, 4.556e+03, 5.979e+03,\n",
       "        6.375e+03, 5.405e+03, 3.340e+03, 2.345e+03, 1.331e+03, 8.240e+02,\n",
       "        4.300e+02, 3.380e+02, 1.290e+02, 8.400e+01, 8.800e+01, 7.500e+01,\n",
       "        1.200e+01, 1.600e+01, 1.800e+01, 1.500e+01, 5.000e+00, 4.000e+00,\n",
       "        2.000e+00]),\n",
       " array([ 7.  ,  8.96, 10.92, 12.88, 14.84, 16.8 , 18.76, 20.72, 22.68,\n",
       "        24.64, 26.6 , 28.56, 30.52, 32.48, 34.44, 36.4 , 38.36, 40.32,\n",
       "        42.28, 44.24, 46.2 , 48.16, 50.12, 52.08, 54.04, 56.  ]),\n",
       " <BarContainer object of 25 artists>)"
      ]
     },
     "execution_count": 30,
     "metadata": {},
     "output_type": "execute_result"
    },
    {
     "data": {
      "image/png": "[encoded data removed]",
      "text/plain": [
       "<Figure size 432x288 with 1 Axes>"
      ]
     },
     "metadata": {
      "needs_background": "light"
     },
     "output_type": "display_data"
    }
   ],
   "source": [
    "# your code here\n",
    "plt.hist(vehicles['Combined MPG'], bins= 25)"
   ]
  },
  {
   "cell_type": "markdown",
   "metadata": {},
   "source": [
    "Which one(s) of the variables are nearly normally distributed? How do you know?"
   ]
  },
  {
   "cell_type": "code",
   "execution_count": null,
   "metadata": {},
   "outputs": [],
   "source": [
    "# your answer here\n",
    "1 y 3"
   ]
  },
  {
   "cell_type": "markdown",
   "metadata": {},
   "source": [
    "## Exponential Distribution"
   ]
  },
  {
   "cell_type": "markdown",
   "metadata": {},
   "source": [
    "1. Using `numpy.random.exponential`, create a function that returns a list of numbers exponentially distributed with the mean of 10. \n",
    "\n",
    "1. Use the function to generate two number sequences with the size of 10 and 100.\n",
    "\n",
    "1. Plot the distributions as histograms with the nubmer of bins as 100.\n",
    "\n",
    "Your output should look like below:\n",
    "\n",
    "![exponential distribution](ed.png)"
   ]
  },
  {
   "cell_type": "code",
   "execution_count": 50,
   "metadata": {},
   "outputs": [],
   "source": [
    "# your code here\n",
    "def generate_exp(mean):\n",
    "    return np.random.exponential(mean, 1000)"
   ]
  },
  {
   "cell_type": "code",
   "execution_count": 51,
   "metadata": {},
   "outputs": [],
   "source": [
    "random1 = generate_exp(10)\n",
    "random2 = generate_exp(100)"
   ]
  },
  {
   "cell_type": "code",
   "execution_count": 52,
   "metadata": {},
   "outputs": [],
   "source": [
    "#print(random1)\n",
    "#print(random2)"
   ]
  },
  {
   "cell_type": "code",
   "execution_count": 53,
   "metadata": {},
   "outputs": [
    {
     "data": {
      "text/plain": [
       "(array([68., 67., 60., 55., 48., 49., 41., 40., 31., 36., 39., 44., 33.,\n",
       "        27., 21., 24., 28., 22., 18., 12., 15., 11., 14., 14., 10.,  8.,\n",
       "        16., 13., 13.,  5., 16.,  4.,  5., 11.,  8.,  6.,  8.,  7.,  3.,\n",
       "         9.,  3.,  3.,  3.,  2.,  1.,  1.,  1.,  1.,  4.,  3.,  0.,  2.,\n",
       "         2.,  0.,  1.,  0.,  2.,  1.,  0.,  1.,  0.,  2.,  0.,  1.,  0.,\n",
       "         0.,  1.,  1.,  0.,  1.,  0.,  0.,  1.,  0.,  0.,  1.,  0.,  0.,\n",
       "         0.,  0.,  0.,  0.,  0.,  1.,  0.,  0.,  0.,  0.,  0.,  0.,  0.,\n",
       "         0.,  0.,  0.,  0.,  0.,  0.,  0.,  0.,  1.]),\n",
       " array([7.73976926e-02, 6.91992364e+00, 1.37624496e+01, 2.06049755e+01,\n",
       "        2.74475015e+01, 3.42900274e+01, 4.11325534e+01, 4.79750793e+01,\n",
       "        5.48176052e+01, 6.16601312e+01, 6.85026571e+01, 7.53451831e+01,\n",
       "        8.21877090e+01, 8.90302350e+01, 9.58727609e+01, 1.02715287e+02,\n",
       "        1.09557813e+02, 1.16400339e+02, 1.23242865e+02, 1.30085391e+02,\n",
       "        1.36927917e+02, 1.43770443e+02, 1.50612968e+02, 1.57455494e+02,\n",
       "        1.64298020e+02, 1.71140546e+02, 1.77983072e+02, 1.84825598e+02,\n",
       "        1.91668124e+02, 1.98510650e+02, 2.05353176e+02, 2.12195702e+02,\n",
       "        2.19038228e+02, 2.25880754e+02, 2.32723280e+02, 2.39565806e+02,\n",
       "        2.46408332e+02, 2.53250858e+02, 2.60093384e+02, 2.66935909e+02,\n",
       "        2.73778435e+02, 2.80620961e+02, 2.87463487e+02, 2.94306013e+02,\n",
       "        3.01148539e+02, 3.07991065e+02, 3.14833591e+02, 3.21676117e+02,\n",
       "        3.28518643e+02, 3.35361169e+02, 3.42203695e+02, 3.49046221e+02,\n",
       "        3.55888747e+02, 3.62731273e+02, 3.69573799e+02, 3.76416325e+02,\n",
       "        3.83258851e+02, 3.90101376e+02, 3.96943902e+02, 4.03786428e+02,\n",
       "        4.10628954e+02, 4.17471480e+02, 4.24314006e+02, 4.31156532e+02,\n",
       "        4.37999058e+02, 4.44841584e+02, 4.51684110e+02, 4.58526636e+02,\n",
       "        4.65369162e+02, 4.72211688e+02, 4.79054214e+02, 4.85896740e+02,\n",
       "        4.92739266e+02, 4.99581792e+02, 5.06424318e+02, 5.13266843e+02,\n",
       "        5.20109369e+02, 5.26951895e+02, 5.33794421e+02, 5.40636947e+02,\n",
       "        5.47479473e+02, 5.54321999e+02, 5.61164525e+02, 5.68007051e+02,\n",
       "        5.74849577e+02, 5.81692103e+02, 5.88534629e+02, 5.95377155e+02,\n",
       "        6.02219681e+02, 6.09062207e+02, 6.15904733e+02, 6.22747259e+02,\n",
       "        6.29589785e+02, 6.36432310e+02, 6.43274836e+02, 6.50117362e+02,\n",
       "        6.56959888e+02, 6.63802414e+02, 6.70644940e+02, 6.77487466e+02,\n",
       "        6.84329992e+02]),\n",
       " <BarContainer object of 100 artists>)"
      ]
     },
     "execution_count": 53,
     "metadata": {},
     "output_type": "execute_result"
    },
    {
     "data": {
      "image/png": "[encoded data removed]",
      "text/plain": [
       "<Figure size 432x288 with 2 Axes>"
      ]
     },
     "metadata": {
      "needs_background": "light"
     },
     "output_type": "display_data"
    }
   ],
   "source": [
    "fig, (ax1, ax2) = plt.subplots(1, 2, sharey = True)\n",
    "ax1.hist(random1, bins=100)\n",
    "ax2.hist(random2, bins=100)"
   ]
  },
  {
   "cell_type": "markdown",
   "metadata": {},
   "source": [
    "How are the two distributions different?"
   ]
  },
  {
   "cell_type": "code",
   "execution_count": 57,
   "metadata": {},
   "outputs": [],
   "source": [
    "# your answer here\n",
    "En el segundo el pool de valores es mayor, por lo que los valores pequeño se superponen"
   ]
  },
  {
   "cell_type": "markdown",
   "metadata": {},
   "source": [
    "## Exponential Distribution of Real Data\n",
    "\n",
    "Suppose that the amount of time one spends in a bank is exponentially distributed with mean as 10 minutes (i.e. λ = 1/10). What is the probability that a customer will spend less than fifteen minutes in the bank? \n",
    "\n",
    "Write a code in python to solve this problem"
   ]
  },
  {
   "cell_type": "code",
   "execution_count": 55,
   "metadata": {},
   "outputs": [
    {
     "name": "stdout",
     "output_type": "stream",
     "text": [
      "0.7768698398515702\n"
     ]
    }
   ],
   "source": [
    "# your answer here\n",
    "# Hint: This is same as saying P(x<15)\n",
    "lamb = 1/10\n",
    "exp = stats.expon(scale=10)\n",
    "print(exp.cdf(15))  "
   ]
  },
  {
   "cell_type": "markdown",
   "metadata": {},
   "source": [
    "What is the probability that the customer will spend more than 15 minutes"
   ]
  },
  {
   "cell_type": "code",
   "execution_count": null,
   "metadata": {},
   "outputs": [],
   "source": [
    "# your answer here"
   ]
  },
  {
   "cell_type": "code",
   "execution_count": 56,
   "metadata": {},
   "outputs": [
    {
     "data": {
      "text/plain": [
       "0.2231301601484298"
      ]
     },
     "execution_count": 56,
     "metadata": {},
     "output_type": "execute_result"
    }
   ],
   "source": [
    "1 - exp.cdf(15)"
   ]
  }
 ],
 "metadata": {
  "kernelspec": {
   "display_name": "Python 3",
   "language": "python",
   "name": "python3"
  },
  "language_info": {
   "codemirror_mode": {
    "name": "ipython",
    "version": 3
   },
   "file_extension": ".py",
   "mimetype": "text/x-python",
   "name": "python",
   "nbconvert_exporter": "python",
   "pygments_lexer": "ipython3",
   "version": "3.8.5"
  }
 },
 "nbformat": 4,
 "nbformat_minor": 2
}
